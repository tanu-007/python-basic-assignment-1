{
  "nbformat": 4,
  "nbformat_minor": 0,
  "metadata": {
    "colab": {
      "name": "assingment1-python basics.ipynb",
      "provenance": [],
      "authorship_tag": "ABX9TyM7MoODV+Bv2fzrzo0SwkPD",
      "include_colab_link": true
    },
    "kernelspec": {
      "name": "python3",
      "display_name": "Python 3"
    },
    "language_info": {
      "name": "python"
    }
  },
  "cells": [
    {
      "cell_type": "markdown",
      "metadata": {
        "id": "view-in-github",
        "colab_type": "text"
      },
      "source": [
        "<a href=\"https://colab.research.google.com/github/tanu-007/python-basic-assignment-1/blob/main/assingment1_python_basics.ipynb\" target=\"_parent\"><img src=\"https://colab.research.google.com/assets/colab-badge.svg\" alt=\"Open In Colab\"/></a>"
      ]
    },
    {
      "cell_type": "markdown",
      "source": [
        "# ***italicized text***"
      ],
      "metadata": {
        "id": "6TCZ2tkaYmPv"
      }
    },
    {
      "cell_type": "markdown",
      "source": [
        "1. values - 'hello', -87.8, 6\n",
        "    expressions - *, -, /, +"
      ],
      "metadata": {
        "id": "aCcgr5FhY7vU"
      }
    },
    {
      "cell_type": "markdown",
      "source": [
        "2. Difference between string and variable:\n",
        "**Variable** in Python refers to an object — an item or element that is stored in the memory. Value of a variable can be a string (e.g., ‘b’, ‘Global Citizen’), numeric (e.g., 345) or any combination of alphanumeric characters (CD67). In Python we can use an assignment statement to create new variables and assign specific values to them.\n",
        "**String** is a type of data. It is a group of characters. These characters may be alphabets, digits or special characters including spaces.\n",
        "String values are enclosed either in single quotation marks (e.g., ‘Hello’) or in double quotation marks (e.g., “Hello”). The quotes are not a part of the string, they are used to mark the beginning and end of the string for the interpreter.\n"
      ],
      "metadata": {
        "id": "kuYwEIZyZgrQ"
      }
    },
    {
      "cell_type": "code",
      "source": [
        ""
      ],
      "metadata": {
        "id": "WgPiDeSia2bf"
      },
      "execution_count": null,
      "outputs": []
    },
    {
      "cell_type": "markdown",
      "source": [
        "3. Three different data types:\n",
        "\n",
        "i. **Number:** Number data type stores numerical values only. It is further classified into three different types: int, float and complex. For example: 10 (int); 2.33(float) and 2+3j (complex).\n",
        "\n",
        "ii.** String:** String is a type of data. It is a group of characters. These characters may be alphabets, digits or special characters including spaces. String values are enclosed either in single quotation marks (e.g., ‘Hello’) or in double quotation marks (e.g., “Hello”). The quotes are not a part of the string, they are used to mark the beginning and end of the string for the interpreter.\n",
        "\n",
        "iii.List: Listis a type of data. It is a sequence of items separated by commas and\n",
        "the items are enclosed in square brackets [ ]."
      ],
      "metadata": {
        "id": "wJNiIGYkbHoL"
      }
    },
    {
      "cell_type": "code",
      "source": [
        ""
      ],
      "metadata": {
        "id": "brqv1H4ocrWV"
      },
      "execution_count": null,
      "outputs": []
    },
    {
      "cell_type": "markdown",
      "source": [
        "4. What is an expression made up of? What do all expressions do?\n",
        "\n",
        "Answer: An expression is defined as a combination of constants, variables, and operators. An expression always evaluates to a value.\n",
        "For example: 20+30*10, \"g\" + \"it\""
      ],
      "metadata": {
        "id": "2fpEHKBecxKG"
      }
    },
    {
      "cell_type": "code",
      "source": [
        ""
      ],
      "metadata": {
        "id": "mdUnJa5aeD2w"
      },
      "execution_count": null,
      "outputs": []
    },
    {
      "cell_type": "markdown",
      "source": [
        "5. This assignment statements, like spam = 10. What is the difference between an expression and a statement?\n",
        "\n",
        "answer:\n",
        "\n",
        "Difference between an expression and a statement:\n",
        "\n",
        "An **expression** is defined as a combination of constants, variables, and operators. An expression always evaluates to a value. A value or a standalone variable is also considered as an expression but a standalone operator is not an expression.\n",
        "\n",
        "A statement is a unit of code that the Python interpreter can execute. For example: spam = 10 is a statement. So any expression using spam will take value of spam as 10 and execute the expression."
      ],
      "metadata": {
        "id": "Qd2jMc8AeJ4I"
      }
    },
    {
      "cell_type": "code",
      "source": [
        "#for example\n",
        "spam = 10\n",
        "spam +10"
      ],
      "metadata": {
        "colab": {
          "base_uri": "https://localhost:8080/"
        },
        "id": "jfLxkAQLflix",
        "outputId": "204b5825-9790-4640-9706-041d6f0b6fdd"
      },
      "execution_count": null,
      "outputs": [
        {
          "output_type": "execute_result",
          "data": {
            "text/plain": [
              "20"
            ]
          },
          "metadata": {},
          "execution_count": 7
        }
      ]
    },
    {
      "cell_type": "code",
      "source": [
        "#Ans 6.\n",
        "bacon = 22\n",
        "bacon +1"
      ],
      "metadata": {
        "colab": {
          "base_uri": "https://localhost:8080/"
        },
        "id": "hoZZFZlefo7t",
        "outputId": "85908fd9-6b67-4f0e-9504-651f7a0a0062"
      },
      "execution_count": null,
      "outputs": [
        {
          "output_type": "execute_result",
          "data": {
            "text/plain": [
              "23"
            ]
          },
          "metadata": {},
          "execution_count": 6
        }
      ]
    },
    {
      "cell_type": "code",
      "source": [
        "# Ans 7.\n",
        "'spam' + 'spamspam'"
      ],
      "metadata": {
        "colab": {
          "base_uri": "https://localhost:8080/",
          "height": 35
        },
        "id": "hj5bcgiefvFi",
        "outputId": "6c39cca6-b1dc-41db-9c44-6d51467e44e1"
      },
      "execution_count": null,
      "outputs": [
        {
          "output_type": "execute_result",
          "data": {
            "text/plain": [
              "'spamspamspam'"
            ],
            "application/vnd.google.colaboratory.intrinsic+json": {
              "type": "string"
            }
          },
          "metadata": {},
          "execution_count": 4
        }
      ]
    },
    {
      "cell_type": "code",
      "source": [
        "'spam'*3"
      ],
      "metadata": {
        "colab": {
          "base_uri": "https://localhost:8080/",
          "height": 35
        },
        "id": "vkiBtqbFgAKc",
        "outputId": "04dd2cc8-c9bf-44fa-bf1d-e57381d5a909"
      },
      "execution_count": null,
      "outputs": [
        {
          "output_type": "execute_result",
          "data": {
            "text/plain": [
              "'spamspamspam'"
            ],
            "application/vnd.google.colaboratory.intrinsic+json": {
              "type": "string"
            }
          },
          "metadata": {},
          "execution_count": 5
        }
      ]
    },
    {
      "cell_type": "code",
      "source": [
        ""
      ],
      "metadata": {
        "id": "ptzBpzZSgDV-"
      },
      "execution_count": null,
      "outputs": []
    },
    {
      "cell_type": "markdown",
      "source": [
        "8. Why is eggs a valid variable name while 100 is invalid?\n",
        "\n",
        "Answer:\n",
        "\n",
        "Variable name is used to identify an item or element stored in the memory. Since 100 is an integer, so it is invalid as variable name. Whereas eggs is a word, so it is a valid name."
      ],
      "metadata": {
        "id": "NcFY0QpFgUja"
      }
    },
    {
      "cell_type": "code",
      "source": [
        ""
      ],
      "metadata": {
        "id": "vZ7KZmvHhq84"
      },
      "execution_count": null,
      "outputs": []
    },
    {
      "cell_type": "markdown",
      "source": [
        "9. What three functions can be used to get the integer, floating-point number, or string version of a value?\n",
        "\n",
        "Answer:\n",
        "\n",
        "To get an integer version of value x, we should use int(x).\n",
        "\n",
        "To get a string version of value x, we should use str(x).\n",
        "\n",
        "To get a floating- point number version of value x, we should use float(x)."
      ],
      "metadata": {
        "id": "82UqxVXeh291"
      }
    },
    {
      "cell_type": "code",
      "source": [
        ""
      ],
      "metadata": {
        "id": "HXMAXfQ1jbKF"
      },
      "execution_count": null,
      "outputs": []
    },
    {
      "cell_type": "markdown",
      "source": [
        "10. Why does this expression cause an error? How can you fix it?\n",
        "'I have eaten ' + 99 + ' burritos.'\n",
        "\n",
        "Answer:\n",
        "\n",
        "This expression cause an error because in this expression, there are two string and one digit. So we cannot operate addition between string and digit.\n",
        "\n",
        "In order to fix this error, we should convert 99 into string form i.e. '99'."
      ],
      "metadata": {
        "id": "Iln8jQDLjem1"
      }
    },
    {
      "cell_type": "code",
      "source": [
        "'I have eaten ' + '99' + ' burritos.'"
      ],
      "metadata": {
        "colab": {
          "base_uri": "https://localhost:8080/",
          "height": 35
        },
        "id": "NWot24xjkBsU",
        "outputId": "ceacd230-bcd4-4805-a067-9a3a08a4ccdd"
      },
      "execution_count": null,
      "outputs": [
        {
          "output_type": "execute_result",
          "data": {
            "text/plain": [
              "'I have eaten 99 burritos.'"
            ],
            "application/vnd.google.colaboratory.intrinsic+json": {
              "type": "string"
            }
          },
          "metadata": {},
          "execution_count": 8
        }
      ]
    },
    {
      "cell_type": "code",
      "source": [
        ""
      ],
      "metadata": {
        "id": "QDHp82jUkIy4"
      },
      "execution_count": null,
      "outputs": []
    }
  ]
}