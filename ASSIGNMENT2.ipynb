{
  "nbformat": 4,
  "nbformat_minor": 0,
  "metadata": {
    "colab": {
      "name": "ASSIGNMENT2.ipynb",
      "provenance": [],
      "authorship_tag": "ABX9TyMh2/RsADMw22o2Em1Tp/CF",
      "include_colab_link": true
    },
    "kernelspec": {
      "name": "python3",
      "display_name": "Python 3"
    },
    "language_info": {
      "name": "python"
    }
  },
  "cells": [
    {
      "cell_type": "markdown",
      "metadata": {
        "id": "view-in-github",
        "colab_type": "text"
      },
      "source": [
        "<a href=\"https://colab.research.google.com/github/tanu-007/python-basic-assignment-1/blob/main/ASSIGNMENT2.ipynb\" target=\"_parent\"><img src=\"https://colab.research.google.com/assets/colab-badge.svg\" alt=\"Open In Colab\"/></a>"
      ]
    },
    {
      "cell_type": "code",
      "source": [
        "bool(True)"
      ],
      "metadata": {
        "colab": {
          "base_uri": "https://localhost:8080/"
        },
        "id": "08B7IM6k47ai",
        "outputId": "349ec4e0-c688-4bba-902e-31d24e809362"
      },
      "execution_count": null,
      "outputs": [
        {
          "output_type": "execute_result",
          "data": {
            "text/plain": [
              "True"
            ]
          },
          "metadata": {},
          "execution_count": 6
        }
      ]
    },
    {
      "cell_type": "markdown",
      "source": [
        "2. What are the three different types of Boolean operators?\n",
        "\n",
        "Answer:\n",
        "\n",
        "The three different types of Boolean operators are:-\n",
        "\n",
        "i. Relational operators such as ==, !=, >, >=, <, <=\n",
        "\n",
        "ii. Logical operators such as and, or.\n",
        "\n",
        "iii. Identity operators such as is, is not."
      ],
      "metadata": {
        "id": "bz2lWwxDZBXy"
      }
    },
    {
      "cell_type": "markdown",
      "source": [
        "1.What are the two values of the Boolean data type? How do you write them?\n",
        "\n",
        "Answer:\n",
        "\n",
        "Boolean data type (bool) consisting of two constants, True and False. \n",
        "\n",
        "Boolean True value is non-zero, non-null\n",
        "and non-empty. \n",
        "\n",
        "Boolean False is the value zero.\n",
        "\n",
        "We can write a Boolean data type as bool(x)."
      ],
      "metadata": {
        "id": "hAeF99ePSmYD"
      }
    },
    {
      "cell_type": "code",
      "source": [
        "#4. What are the values of the following expressions?\n",
        "(5>4) and (3==5)"
      ],
      "metadata": {
        "colab": {
          "base_uri": "https://localhost:8080/"
        },
        "id": "4IPtie0M48Lc",
        "outputId": "322671ab-2a17-4b33-b2fb-f7cf85bf0256"
      },
      "execution_count": null,
      "outputs": [
        {
          "output_type": "execute_result",
          "data": {
            "text/plain": [
              "False"
            ]
          },
          "metadata": {},
          "execution_count": 5
        }
      ]
    },
    {
      "cell_type": "code",
      "source": [
        "(5>4) or (3==5)"
      ],
      "metadata": {
        "colab": {
          "base_uri": "https://localhost:8080/"
        },
        "id": "G1jBQbDw5D6D",
        "outputId": "ab66e9ed-778b-4871-9e93-7ed8bda86d9b"
      },
      "execution_count": null,
      "outputs": [
        {
          "output_type": "execute_result",
          "data": {
            "text/plain": [
              "True"
            ]
          },
          "metadata": {},
          "execution_count": 8
        }
      ]
    },
    {
      "cell_type": "code",
      "source": [
        "not(5>4)"
      ],
      "metadata": {
        "colab": {
          "base_uri": "https://localhost:8080/"
        },
        "id": "f51ESl-i5F6R",
        "outputId": "a3b41e10-7b0d-4768-ead5-ced930904f2e"
      },
      "execution_count": null,
      "outputs": [
        {
          "output_type": "execute_result",
          "data": {
            "text/plain": [
              "False"
            ]
          },
          "metadata": {},
          "execution_count": 6
        }
      ]
    },
    {
      "cell_type": "code",
      "source": [
        "not((5>4) or (3==5))"
      ],
      "metadata": {
        "colab": {
          "base_uri": "https://localhost:8080/"
        },
        "id": "whbaHYU25J7w",
        "outputId": "c409e935-9c90-4d54-8e8f-cca174c2a9d5"
      },
      "execution_count": null,
      "outputs": [
        {
          "output_type": "execute_result",
          "data": {
            "text/plain": [
              "False"
            ]
          },
          "metadata": {},
          "execution_count": 9
        }
      ]
    },
    {
      "cell_type": "code",
      "source": [
        "(True and True) and (True == False)"
      ],
      "metadata": {
        "colab": {
          "base_uri": "https://localhost:8080/"
        },
        "id": "RpuEv5lV5idz",
        "outputId": "323cd11a-5ffa-45bf-9056-62fcd94c5067"
      },
      "execution_count": null,
      "outputs": [
        {
          "output_type": "execute_result",
          "data": {
            "text/plain": [
              "False"
            ]
          },
          "metadata": {},
          "execution_count": 10
        }
      ]
    },
    {
      "cell_type": "code",
      "source": [
        "(not False) or (not True)"
      ],
      "metadata": {
        "colab": {
          "base_uri": "https://localhost:8080/"
        },
        "id": "FrHnmgCj501I",
        "outputId": "3d13494e-4362-4eab-d7f6-12b05b7722c0"
      },
      "execution_count": null,
      "outputs": [
        {
          "output_type": "execute_result",
          "data": {
            "text/plain": [
              "True"
            ]
          },
          "metadata": {},
          "execution_count": 11
        }
      ]
    },
    {
      "cell_type": "code",
      "source": [
        "# 7. Identify the three blocks in this code:\n",
        "# Answer: \n",
        "# block 1 - if spam == 10: print('eggs')\n",
        "# block 2 - if spam >5: print('bacon')\n",
        "# block 3- else: print('ham') print('spam') print('spam')\n",
        "\n",
        "spam = 0\n",
        "if spam ==10:\n",
        "  print('eggs')\n",
        "if spam >5:\n",
        "  print('bacon')\n",
        "else:\n",
        "  print('ham')\n",
        "  print('spam')\n",
        "  print('spam')"
      ],
      "metadata": {
        "colab": {
          "base_uri": "https://localhost:8080/"
        },
        "id": "u_Es9g50584c",
        "outputId": "5e8c2b94-ee07-43f9-c0dc-d733b9891b36"
      },
      "execution_count": null,
      "outputs": [
        {
          "output_type": "stream",
          "name": "stdout",
          "text": [
            "ham\n",
            "spam\n",
            "spam\n"
          ]
        }
      ]
    },
    {
      "cell_type": "code",
      "source": [
        "# 8. Write code that prints Hello if 1 is stored in spam, prints Howdy if 2 is stored in spam, and prints Greetings! if anything else is stored in spam.\n",
        "spam =[1, 2,3]\n",
        "for i in spam:\n",
        "  if i ==1:\n",
        "    print('Hello')\n",
        "  if i ==2:\n",
        "    print('Howdy')\n",
        "else:\n",
        "  print('Greetings!')"
      ],
      "metadata": {
        "colab": {
          "base_uri": "https://localhost:8080/"
        },
        "id": "oWNRzhvE6hE3",
        "outputId": "5b43603b-2e1c-42cd-ed0e-e8afe7eb0743"
      },
      "execution_count": null,
      "outputs": [
        {
          "output_type": "stream",
          "name": "stdout",
          "text": [
            "Hello\n",
            "Howdy\n",
            "Greetings!\n"
          ]
        }
      ]
    },
    {
      "cell_type": "code",
      "source": [
        ""
      ],
      "metadata": {
        "id": "C9vNdA3EVLGK"
      },
      "execution_count": null,
      "outputs": []
    },
    {
      "cell_type": "markdown",
      "source": [
        "3. Make a list of each Boolean operator's truth tables (i.e. every possible combination of Boolean values for the operator and what it evaluate ).\n",
        "\n",
        "Answer:\n",
        "\n",
        "Boolean operator's Truth tables:-\n",
        "\n",
        "**and table**\n",
        "\n",
        "True and True = True\n",
        "\n",
        "True and False = False\n",
        "\n",
        "False and False = False\n",
        "\n",
        "False and True = False\n",
        "\n",
        "**or table**\n",
        "\n",
        "True or True = True\n",
        "\n",
        "True or False = True\n",
        "\n",
        "False or True = True\n",
        "\n",
        "False and False = False"
      ],
      "metadata": {
        "id": "kb7NKcUjd9FX"
      }
    },
    {
      "cell_type": "code",
      "source": [
        "c = 3\n",
        "d = 2\n",
        "d==c\n"
      ],
      "metadata": {
        "colab": {
          "base_uri": "https://localhost:8080/"
        },
        "id": "8Wthqbm3fktU",
        "outputId": "70705085-66d9-45e1-dc34-3187134414da"
      },
      "execution_count": null,
      "outputs": [
        {
          "output_type": "execute_result",
          "data": {
            "text/plain": [
              "False"
            ]
          },
          "metadata": {},
          "execution_count": 26
        }
      ]
    },
    {
      "cell_type": "markdown",
      "source": [
        "5. What are the six comparison operators?\n",
        "\n",
        "Answer:\n",
        "\n",
        "The six comparison operators are >, >=, <, <=, ==, !=."
      ],
      "metadata": {
        "id": "sE8ofdtAfwTN"
      }
    },
    {
      "cell_type": "code",
      "source": [
        ""
      ],
      "metadata": {
        "id": "svrvfRXhf8BY"
      },
      "execution_count": null,
      "outputs": []
    },
    {
      "cell_type": "markdown",
      "source": [
        "6. How do you tell the difference between the equal to and assignment operators?Describe a condition and when you would use one.\n",
        "\n",
        "Answer:\n",
        "\n",
        "**Assignment operator** assigns or changes the value of the variable on its left.\n",
        "\n",
        "Equal to is one of the a relational operator. This operator compares the values of the operands on its either side and determines the relationship among them as True or False."
      ],
      "metadata": {
        "id": "oDddL1ghgAPT"
      }
    },
    {
      "cell_type": "code",
      "source": [
        "x = 10\n",
        "y = 12\n"
      ],
      "metadata": {
        "id": "LTfYFZtBlX2x"
      },
      "execution_count": null,
      "outputs": []
    },
    {
      "cell_type": "code",
      "source": [
        "x == y"
      ],
      "metadata": {
        "colab": {
          "base_uri": "https://localhost:8080/"
        },
        "id": "HbwosRdflfrm",
        "outputId": "a9cff868-4272-4d52-90ec-993cd1a45076"
      },
      "execution_count": null,
      "outputs": [
        {
          "output_type": "execute_result",
          "data": {
            "text/plain": [
              "False"
            ]
          },
          "metadata": {},
          "execution_count": 12
        }
      ]
    },
    {
      "cell_type": "code",
      "source": [
        "a = 20"
      ],
      "metadata": {
        "id": "vvUI9rjxlhsJ"
      },
      "execution_count": null,
      "outputs": []
    },
    {
      "cell_type": "code",
      "source": [
        "b = a\n",
        "b"
      ],
      "metadata": {
        "colab": {
          "base_uri": "https://localhost:8080/"
        },
        "id": "OY7Ao17_lwW7",
        "outputId": "882e6bbf-3056-4a01-8099-0f6e297a9b42"
      },
      "execution_count": null,
      "outputs": [
        {
          "output_type": "execute_result",
          "data": {
            "text/plain": [
              "20"
            ]
          },
          "metadata": {},
          "execution_count": 17
        }
      ]
    },
    {
      "cell_type": "code",
      "source": [
        ""
      ],
      "metadata": {
        "id": "gbVCvh-6mDPs"
      },
      "execution_count": null,
      "outputs": []
    },
    {
      "cell_type": "markdown",
      "source": [
        "9.If your programme is stuck in an endless loop, what keys you’ll press?\n",
        "\n",
        "Answer: \n",
        "\n",
        "To end an endless loop, we should press kernel or Ctrl + C."
      ],
      "metadata": {
        "id": "Tus92md9mLzx"
      }
    },
    {
      "cell_type": "code",
      "source": [
        ""
      ],
      "metadata": {
        "id": "JtTPoCWRoADM"
      },
      "execution_count": null,
      "outputs": []
    },
    {
      "cell_type": "markdown",
      "source": [
        "10. How can you tell the difference between break and continue?\n",
        "\n",
        "Answer:\n",
        "\n",
        "The **break statement** alters the normal flow of execution as it terminates the current loop and resumes execution of the statement following that loop. Using break statement, we can come out of the loop forever.\n",
        "\n",
        "When a **continue statement** is encountered, the control skips the execution of remaining statements inside\n",
        "the body of the loop for the current iteration and jumps to the beginning of the loop for the next iteration. If the\n",
        "loop’s condition is still true, the loop is entered again, else the control is transferred to the statement immediately\n",
        "following the loop. Using continue statement, we can skip some statements of the loop before continuing further in the loop."
      ],
      "metadata": {
        "id": "wtMKF_zNoDyH"
      }
    },
    {
      "cell_type": "code",
      "source": [
        "True"
      ],
      "metadata": {
        "colab": {
          "base_uri": "https://localhost:8080/"
        },
        "id": "esk_LjmmpNP7",
        "outputId": "ec51edbf-553a-4775-8d49-b50b56b42d17"
      },
      "execution_count": null,
      "outputs": [
        {
          "output_type": "execute_result",
          "data": {
            "text/plain": [
              "True"
            ]
          },
          "metadata": {},
          "execution_count": 21
        }
      ]
    },
    {
      "cell_type": "markdown",
      "source": [
        "11. In a for loop, what is the difference between range(10), range(0, 10), and range(0, 10, 1)?\n",
        "\n",
        "Answer:\n",
        "\n",
        "In Range(10), only the stop value of sequence of integers is mention. In this case, by default the list starts from 0.\n",
        "\n",
        "In range(0, 10), both start value and stop value of sequence of integers is mention.\n",
        "\n",
        "In range(0,10,1), both start value and stop value is mention along with the step parameter of a sequence of integers.\n",
        "\n",
        "In all these cases, the output will be same. It will print all the digit starting from 0 to 9."
      ],
      "metadata": {
        "id": "pv682kJ4pQwT"
      }
    },
    {
      "cell_type": "markdown",
      "source": [
        "12. Write a short program that prints the numbers 1 to 10 using a for loop. Then write an equivalent program that prints the numbers 1 to 10 using a while loop."
      ],
      "metadata": {
        "id": "AGD5vVK2pRPx"
      }
    },
    {
      "cell_type": "code",
      "source": [
        "#for loop\n",
        "\n",
        "for i in range(1,11):\n",
        "  print(i)"
      ],
      "metadata": {
        "colab": {
          "base_uri": "https://localhost:8080/"
        },
        "id": "tMFuAHwPs6ME",
        "outputId": "195cbd74-8347-4304-cacb-af054e43c142"
      },
      "execution_count": null,
      "outputs": [
        {
          "output_type": "stream",
          "name": "stdout",
          "text": [
            "1\n",
            "2\n",
            "3\n",
            "4\n",
            "5\n",
            "6\n",
            "7\n",
            "8\n",
            "9\n",
            "10\n"
          ]
        }
      ]
    },
    {
      "cell_type": "code",
      "source": [
        "#while loop\n",
        "\n",
        "a = 1\n",
        "while a<11:\n",
        "  print(a)\n",
        "  a = a+1"
      ],
      "metadata": {
        "colab": {
          "base_uri": "https://localhost:8080/"
        },
        "id": "wymMX8vttGPp",
        "outputId": "779fa0a4-dd39-4d4a-8a5e-3064f28f93b2"
      },
      "execution_count": null,
      "outputs": [
        {
          "output_type": "stream",
          "name": "stdout",
          "text": [
            "1\n",
            "2\n",
            "3\n",
            "4\n",
            "5\n",
            "6\n",
            "7\n",
            "8\n",
            "9\n",
            "10\n"
          ]
        }
      ]
    },
    {
      "cell_type": "code",
      "source": [
        ""
      ],
      "metadata": {
        "id": "XtLZR1PmtVCO"
      },
      "execution_count": null,
      "outputs": []
    },
    {
      "cell_type": "markdown",
      "source": [
        "13. If you had a function named bacon() inside a module named spam, how would you call it after importing spam?\n",
        "\n",
        "Answer:\n",
        "\n",
        "spam.bacon()"
      ],
      "metadata": {
        "id": "UvOsIhN1tams"
      }
    },
    {
      "cell_type": "code",
      "source": [
        ""
      ],
      "metadata": {
        "id": "3unTd1HIvV6d"
      },
      "execution_count": null,
      "outputs": []
    }
  ]
}